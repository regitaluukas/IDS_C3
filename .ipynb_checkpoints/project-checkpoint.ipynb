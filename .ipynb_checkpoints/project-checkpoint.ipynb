{
 "cells": [
  {
   "cell_type": "markdown",
   "id": "b7bacf21",
   "metadata": {},
   "source": [
    "# Project C3: OFFENCES IN ESTONIA \n",
    "Offences against public order and offences committed in public places in Estonia"
   ]
  },
  {
   "cell_type": "markdown",
   "id": "21628f79",
   "metadata": {},
   "source": [
    "## Data preparation"
   ]
  },
  {
   "cell_type": "code",
   "execution_count": 1,
   "id": "6fb36d2d",
   "metadata": {},
   "outputs": [],
   "source": [
    "import numpy as np\n",
    "import pandas as pd"
   ]
  },
  {
   "cell_type": "code",
   "execution_count": 2,
   "id": "4c94db04",
   "metadata": {},
   "outputs": [
    {
     "name": "stdout",
     "output_type": "stream",
     "text": [
      "Requirement already satisfied: apyori in c:\\users\\regita\\anaconda3\\lib\\site-packages (1.1.2)\n",
      "Note: you may need to restart the kernel to use updated packages.\n"
     ]
    }
   ],
   "source": [
    "%pip install apyori"
   ]
  },
  {
   "cell_type": "code",
   "execution_count": 3,
   "id": "0622b8f5",
   "metadata": {},
   "outputs": [],
   "source": [
    "data = pd.read_csv(\"avalik_2.csv\", sep=\"\\t\")"
   ]
  },
  {
   "cell_type": "code",
   "execution_count": 4,
   "id": "d59ae293",
   "metadata": {},
   "outputs": [
    {
     "data": {
      "text/html": [
       "<div>\n",
       "<style scoped>\n",
       "    .dataframe tbody tr th:only-of-type {\n",
       "        vertical-align: middle;\n",
       "    }\n",
       "\n",
       "    .dataframe tbody tr th {\n",
       "        vertical-align: top;\n",
       "    }\n",
       "\n",
       "    .dataframe thead th {\n",
       "        text-align: right;\n",
       "    }\n",
       "</style>\n",
       "<table border=\"1\" class=\"dataframe\">\n",
       "  <thead>\n",
       "    <tr style=\"text-align: right;\">\n",
       "      <th></th>\n",
       "      <th>JuhtumId</th>\n",
       "      <th>ToimKpv</th>\n",
       "      <th>ToimKell</th>\n",
       "      <th>ToimNadalapaev</th>\n",
       "      <th>SyndmusLiik</th>\n",
       "      <th>SyndmusTaiendavStatLiik</th>\n",
       "      <th>Seadus</th>\n",
       "      <th>Paragrahv</th>\n",
       "      <th>ParagrahvTais</th>\n",
       "      <th>Loige</th>\n",
       "      <th>Kahjusumma</th>\n",
       "      <th>KohtLiik</th>\n",
       "      <th>MaakondNimetus</th>\n",
       "      <th>ValdLinnNimetus</th>\n",
       "      <th>KohtNimetus</th>\n",
       "      <th>Lest_X</th>\n",
       "      <th>Lest_Y</th>\n",
       "      <th>SyyteoLiik</th>\n",
       "    </tr>\n",
       "  </thead>\n",
       "  <tbody>\n",
       "    <tr>\n",
       "      <th>0</th>\n",
       "      <td>d8c560a8-b2ec-18d8-809b-f2bfbad78e4c</td>\n",
       "      <td>2020-12-31</td>\n",
       "      <td>23:00</td>\n",
       "      <td>Neljapäev</td>\n",
       "      <td>VANDALISM</td>\n",
       "      <td>NaN</td>\n",
       "      <td>Karistusseadustik</td>\n",
       "      <td>§ 218.</td>\n",
       "      <td>§ 218. Varavastane süütegu väheväärtusliku asj...</td>\n",
       "      <td>lg. 1.</td>\n",
       "      <td>500-4999</td>\n",
       "      <td>AVALIK_KOHT</td>\n",
       "      <td>Harju maakond</td>\n",
       "      <td>Lääne-Harju vald</td>\n",
       "      <td>Meremõisa küla</td>\n",
       "      <td>6584000-6584999</td>\n",
       "      <td>515000-515999</td>\n",
       "      <td>VT</td>\n",
       "    </tr>\n",
       "    <tr>\n",
       "      <th>1</th>\n",
       "      <td>f88f8030-b2ec-18d8-809b-f2bfbad78e4c</td>\n",
       "      <td>2020-12-31</td>\n",
       "      <td>17:56</td>\n",
       "      <td>Neljapäev</td>\n",
       "      <td>VARGUS</td>\n",
       "      <td>MUU_VARGUS</td>\n",
       "      <td>Karistusseadustik</td>\n",
       "      <td>§ 199.</td>\n",
       "      <td>§ 199. Vargus</td>\n",
       "      <td>lg. 2.</td>\n",
       "      <td>0-499</td>\n",
       "      <td>AVALIK_KOHT,KAUPLUS</td>\n",
       "      <td>Harju maakond</td>\n",
       "      <td>Tallinn</td>\n",
       "      <td>Lasnamäe linnaosa</td>\n",
       "      <td>6589500-6589999</td>\n",
       "      <td>550000-550499</td>\n",
       "      <td>KT</td>\n",
       "    </tr>\n",
       "    <tr>\n",
       "      <th>2</th>\n",
       "      <td>58f7377a-c36d-18d8-be3c-82234b607189</td>\n",
       "      <td>2020-12-31</td>\n",
       "      <td>17:36</td>\n",
       "      <td>Neljapäev</td>\n",
       "      <td>VARGUS</td>\n",
       "      <td>NaN</td>\n",
       "      <td>Karistusseadustik</td>\n",
       "      <td>§ 218.</td>\n",
       "      <td>§ 218. Varavastane süütegu väheväärtusliku asj...</td>\n",
       "      <td>lg. 1.</td>\n",
       "      <td>0-499</td>\n",
       "      <td>AVALIK_KOHT,TANKLA</td>\n",
       "      <td>Harju maakond</td>\n",
       "      <td>Tallinn</td>\n",
       "      <td>Põhja-Tallinna linnaosa</td>\n",
       "      <td>6589500-6589999</td>\n",
       "      <td>542500-542999</td>\n",
       "      <td>VT</td>\n",
       "    </tr>\n",
       "    <tr>\n",
       "      <th>3</th>\n",
       "      <td>d8c56076-b2ec-18d8-809b-f2bfbad78e4c</td>\n",
       "      <td>2020-12-31</td>\n",
       "      <td>15:06</td>\n",
       "      <td>Neljapäev</td>\n",
       "      <td>PISIVARGUS</td>\n",
       "      <td>NaN</td>\n",
       "      <td>Karistusseadustik</td>\n",
       "      <td>§ 218.</td>\n",
       "      <td>§ 218. Varavastane süütegu väheväärtusliku asj...</td>\n",
       "      <td>lg. 1.</td>\n",
       "      <td>0-499</td>\n",
       "      <td>AVALIK_KOHT,KAUPLUS</td>\n",
       "      <td>Harju maakond</td>\n",
       "      <td>Tallinn</td>\n",
       "      <td>Põhja-Tallinna linnaosa</td>\n",
       "      <td>6590000-6590499</td>\n",
       "      <td>539000-539499</td>\n",
       "      <td>VT</td>\n",
       "    </tr>\n",
       "    <tr>\n",
       "      <th>4</th>\n",
       "      <td>d8c56062-b2ec-18d8-809b-f2bfbad78e4c</td>\n",
       "      <td>2020-12-31</td>\n",
       "      <td>15:02</td>\n",
       "      <td>Neljapäev</td>\n",
       "      <td>PISIVARGUS</td>\n",
       "      <td>NaN</td>\n",
       "      <td>Karistusseadustik</td>\n",
       "      <td>§ 218.</td>\n",
       "      <td>§ 218. Varavastane süütegu väheväärtusliku asj...</td>\n",
       "      <td>lg. 1.</td>\n",
       "      <td>0-499</td>\n",
       "      <td>AVALIK_KOHT,KAUPLUS</td>\n",
       "      <td>Harju maakond</td>\n",
       "      <td>Tallinn</td>\n",
       "      <td>Lasnamäe linnaosa</td>\n",
       "      <td>6587500-6587999</td>\n",
       "      <td>544500-544999</td>\n",
       "      <td>VT</td>\n",
       "    </tr>\n",
       "  </tbody>\n",
       "</table>\n",
       "</div>"
      ],
      "text/plain": [
       "                               JuhtumId     ToimKpv ToimKell ToimNadalapaev  \\\n",
       "0  d8c560a8-b2ec-18d8-809b-f2bfbad78e4c  2020-12-31    23:00      Neljapäev   \n",
       "1  f88f8030-b2ec-18d8-809b-f2bfbad78e4c  2020-12-31    17:56      Neljapäev   \n",
       "2  58f7377a-c36d-18d8-be3c-82234b607189  2020-12-31    17:36      Neljapäev   \n",
       "3  d8c56076-b2ec-18d8-809b-f2bfbad78e4c  2020-12-31    15:06      Neljapäev   \n",
       "4  d8c56062-b2ec-18d8-809b-f2bfbad78e4c  2020-12-31    15:02      Neljapäev   \n",
       "\n",
       "  SyndmusLiik SyndmusTaiendavStatLiik             Seadus Paragrahv  \\\n",
       "0   VANDALISM                     NaN  Karistusseadustik    § 218.   \n",
       "1      VARGUS              MUU_VARGUS  Karistusseadustik    § 199.   \n",
       "2      VARGUS                     NaN  Karistusseadustik    § 218.   \n",
       "3  PISIVARGUS                     NaN  Karistusseadustik    § 218.   \n",
       "4  PISIVARGUS                     NaN  Karistusseadustik    § 218.   \n",
       "\n",
       "                                       ParagrahvTais   Loige Kahjusumma  \\\n",
       "0  § 218. Varavastane süütegu väheväärtusliku asj...  lg. 1.   500-4999   \n",
       "1                                      § 199. Vargus  lg. 2.      0-499   \n",
       "2  § 218. Varavastane süütegu väheväärtusliku asj...  lg. 1.      0-499   \n",
       "3  § 218. Varavastane süütegu väheväärtusliku asj...  lg. 1.      0-499   \n",
       "4  § 218. Varavastane süütegu väheväärtusliku asj...  lg. 1.      0-499   \n",
       "\n",
       "              KohtLiik MaakondNimetus   ValdLinnNimetus  \\\n",
       "0          AVALIK_KOHT  Harju maakond  Lääne-Harju vald   \n",
       "1  AVALIK_KOHT,KAUPLUS  Harju maakond           Tallinn   \n",
       "2   AVALIK_KOHT,TANKLA  Harju maakond           Tallinn   \n",
       "3  AVALIK_KOHT,KAUPLUS  Harju maakond           Tallinn   \n",
       "4  AVALIK_KOHT,KAUPLUS  Harju maakond           Tallinn   \n",
       "\n",
       "               KohtNimetus           Lest_X         Lest_Y SyyteoLiik  \n",
       "0           Meremõisa küla  6584000-6584999  515000-515999         VT  \n",
       "1        Lasnamäe linnaosa  6589500-6589999  550000-550499         KT  \n",
       "2  Põhja-Tallinna linnaosa  6589500-6589999  542500-542999         VT  \n",
       "3  Põhja-Tallinna linnaosa  6590000-6590499  539000-539499         VT  \n",
       "4        Lasnamäe linnaosa  6587500-6587999  544500-544999         VT  "
      ]
     },
     "execution_count": 4,
     "metadata": {},
     "output_type": "execute_result"
    }
   ],
   "source": [
    "data.head()"
   ]
  },
  {
   "cell_type": "code",
   "execution_count": 5,
   "id": "649f11b6",
   "metadata": {},
   "outputs": [],
   "source": [
    "data = data.drop(['JuhtumId','Paragrahv','Loige','SyndmusTaiendavStatLiik','Lest_X','Lest_Y', 'Seadus', 'SyndmusLiik', 'SyyteoLiik'], axis=1)"
   ]
  },
  {
   "cell_type": "code",
   "execution_count": 6,
   "id": "cc2c4789",
   "metadata": {},
   "outputs": [
    {
     "data": {
      "text/html": [
       "<div>\n",
       "<style scoped>\n",
       "    .dataframe tbody tr th:only-of-type {\n",
       "        vertical-align: middle;\n",
       "    }\n",
       "\n",
       "    .dataframe tbody tr th {\n",
       "        vertical-align: top;\n",
       "    }\n",
       "\n",
       "    .dataframe thead th {\n",
       "        text-align: right;\n",
       "    }\n",
       "</style>\n",
       "<table border=\"1\" class=\"dataframe\">\n",
       "  <thead>\n",
       "    <tr style=\"text-align: right;\">\n",
       "      <th></th>\n",
       "      <th>ToimKpv</th>\n",
       "      <th>ToimKell</th>\n",
       "      <th>ToimNadalapaev</th>\n",
       "      <th>ParagrahvTais</th>\n",
       "      <th>Kahjusumma</th>\n",
       "      <th>KohtLiik</th>\n",
       "      <th>MaakondNimetus</th>\n",
       "      <th>ValdLinnNimetus</th>\n",
       "      <th>KohtNimetus</th>\n",
       "    </tr>\n",
       "  </thead>\n",
       "  <tbody>\n",
       "    <tr>\n",
       "      <th>0</th>\n",
       "      <td>2020-12-31</td>\n",
       "      <td>23:00</td>\n",
       "      <td>Neljapäev</td>\n",
       "      <td>§ 218. Varavastane süütegu väheväärtusliku asj...</td>\n",
       "      <td>500-4999</td>\n",
       "      <td>AVALIK_KOHT</td>\n",
       "      <td>Harju maakond</td>\n",
       "      <td>Lääne-Harju vald</td>\n",
       "      <td>Meremõisa küla</td>\n",
       "    </tr>\n",
       "    <tr>\n",
       "      <th>1</th>\n",
       "      <td>2020-12-31</td>\n",
       "      <td>17:56</td>\n",
       "      <td>Neljapäev</td>\n",
       "      <td>§ 199. Vargus</td>\n",
       "      <td>0-499</td>\n",
       "      <td>AVALIK_KOHT,KAUPLUS</td>\n",
       "      <td>Harju maakond</td>\n",
       "      <td>Tallinn</td>\n",
       "      <td>Lasnamäe linnaosa</td>\n",
       "    </tr>\n",
       "    <tr>\n",
       "      <th>2</th>\n",
       "      <td>2020-12-31</td>\n",
       "      <td>17:36</td>\n",
       "      <td>Neljapäev</td>\n",
       "      <td>§ 218. Varavastane süütegu väheväärtusliku asj...</td>\n",
       "      <td>0-499</td>\n",
       "      <td>AVALIK_KOHT,TANKLA</td>\n",
       "      <td>Harju maakond</td>\n",
       "      <td>Tallinn</td>\n",
       "      <td>Põhja-Tallinna linnaosa</td>\n",
       "    </tr>\n",
       "    <tr>\n",
       "      <th>3</th>\n",
       "      <td>2020-12-31</td>\n",
       "      <td>15:06</td>\n",
       "      <td>Neljapäev</td>\n",
       "      <td>§ 218. Varavastane süütegu väheväärtusliku asj...</td>\n",
       "      <td>0-499</td>\n",
       "      <td>AVALIK_KOHT,KAUPLUS</td>\n",
       "      <td>Harju maakond</td>\n",
       "      <td>Tallinn</td>\n",
       "      <td>Põhja-Tallinna linnaosa</td>\n",
       "    </tr>\n",
       "    <tr>\n",
       "      <th>4</th>\n",
       "      <td>2020-12-31</td>\n",
       "      <td>15:02</td>\n",
       "      <td>Neljapäev</td>\n",
       "      <td>§ 218. Varavastane süütegu väheväärtusliku asj...</td>\n",
       "      <td>0-499</td>\n",
       "      <td>AVALIK_KOHT,KAUPLUS</td>\n",
       "      <td>Harju maakond</td>\n",
       "      <td>Tallinn</td>\n",
       "      <td>Lasnamäe linnaosa</td>\n",
       "    </tr>\n",
       "  </tbody>\n",
       "</table>\n",
       "</div>"
      ],
      "text/plain": [
       "      ToimKpv ToimKell ToimNadalapaev  \\\n",
       "0  2020-12-31    23:00      Neljapäev   \n",
       "1  2020-12-31    17:56      Neljapäev   \n",
       "2  2020-12-31    17:36      Neljapäev   \n",
       "3  2020-12-31    15:06      Neljapäev   \n",
       "4  2020-12-31    15:02      Neljapäev   \n",
       "\n",
       "                                       ParagrahvTais Kahjusumma  \\\n",
       "0  § 218. Varavastane süütegu väheväärtusliku asj...   500-4999   \n",
       "1                                      § 199. Vargus      0-499   \n",
       "2  § 218. Varavastane süütegu väheväärtusliku asj...      0-499   \n",
       "3  § 218. Varavastane süütegu väheväärtusliku asj...      0-499   \n",
       "4  § 218. Varavastane süütegu väheväärtusliku asj...      0-499   \n",
       "\n",
       "              KohtLiik MaakondNimetus   ValdLinnNimetus  \\\n",
       "0          AVALIK_KOHT  Harju maakond  Lääne-Harju vald   \n",
       "1  AVALIK_KOHT,KAUPLUS  Harju maakond           Tallinn   \n",
       "2   AVALIK_KOHT,TANKLA  Harju maakond           Tallinn   \n",
       "3  AVALIK_KOHT,KAUPLUS  Harju maakond           Tallinn   \n",
       "4  AVALIK_KOHT,KAUPLUS  Harju maakond           Tallinn   \n",
       "\n",
       "               KohtNimetus  \n",
       "0           Meremõisa küla  \n",
       "1        Lasnamäe linnaosa  \n",
       "2  Põhja-Tallinna linnaosa  \n",
       "3  Põhja-Tallinna linnaosa  \n",
       "4        Lasnamäe linnaosa  "
      ]
     },
     "execution_count": 6,
     "metadata": {},
     "output_type": "execute_result"
    }
   ],
   "source": [
    "data.head()"
   ]
  },
  {
   "cell_type": "code",
   "execution_count": 7,
   "id": "c9c92b5b",
   "metadata": {},
   "outputs": [],
   "source": [
    "data['ToimKpv'] = pd.to_datetime(data[\"ToimKpv\"])"
   ]
  },
  {
   "cell_type": "markdown",
   "id": "365f797c",
   "metadata": {},
   "source": [
    "## Counting unique values"
   ]
  },
  {
   "cell_type": "markdown",
   "id": "ed911e0c",
   "metadata": {},
   "source": [
    "To find interesting occurings we counted unique values of different columns."
   ]
  },
  {
   "cell_type": "code",
   "execution_count": 8,
   "id": "2fc975ac",
   "metadata": {},
   "outputs": [
    {
     "data": {
      "text/plain": [
       "2016-04-16    61\n",
       "2016-04-09    59\n",
       "2016-01-01    50\n",
       "2016-05-01    49\n",
       "2016-05-06    48\n",
       "              ..\n",
       "2019-11-13     7\n",
       "2019-08-26     7\n",
       "2020-05-05     6\n",
       "2020-08-16     4\n",
       "2020-10-16     3\n",
       "Name: ToimKpv, Length: 1827, dtype: int64"
      ]
     },
     "execution_count": 8,
     "metadata": {},
     "output_type": "execute_result"
    }
   ],
   "source": [
    "data[\"ToimKpv\"].value_counts()"
   ]
  },
  {
   "cell_type": "code",
   "execution_count": 9,
   "id": "1f33ae59",
   "metadata": {},
   "outputs": [
    {
     "data": {
      "text/plain": [
       "Tallinn              29041\n",
       "Tartu linn            2091\n",
       "Kohtla-Järve linn      868\n",
       "Pärnu linn             674\n",
       "Narva linn             597\n",
       "                     ...  \n",
       "Mikitamäe vald           1\n",
       "Halinga vald             1\n",
       "Konguta vald             1\n",
       "Taheva vald              1\n",
       "Emmaste vald             1\n",
       "Name: ValdLinnNimetus, Length: 228, dtype: int64"
      ]
     },
     "execution_count": 9,
     "metadata": {},
     "output_type": "execute_result"
    }
   ],
   "source": [
    "data[\"ValdLinnNimetus\"].value_counts()"
   ]
  },
  {
   "cell_type": "code",
   "execution_count": 10,
   "id": "d92613ce",
   "metadata": {},
   "outputs": [
    {
     "data": {
      "text/plain": [
       "Laupäev       6997\n",
       "Pühapäev      6062\n",
       "Reede         6000\n",
       "Neljapäev     5356\n",
       "Kolmapäev     5283\n",
       "Teisipäev     5144\n",
       "Esmaspäev     5138\n",
       "Name: ToimNadalapaev, dtype: int64"
      ]
     },
     "execution_count": 10,
     "metadata": {},
     "output_type": "execute_result"
    }
   ],
   "source": [
    "data[\"ToimNadalapaev\"].value_counts(dropna=False)"
   ]
  },
  {
   "cell_type": "code",
   "execution_count": 11,
   "id": "54fbb3c1",
   "metadata": {},
   "outputs": [
    {
     "data": {
      "text/plain": [
       "§ 218. Varavastane süütegu väheväärtusliku asja ja varalise õiguse vastu                 16765\n",
       "§ 199. Vargus                                                                            14552\n",
       "§ 262. Avaliku korra rikkumine                                                            4720\n",
       "§ 263. Avaliku korra raske rikkumine                                                      2957\n",
       "§ 201. Omastamine                                                                          519\n",
       "§ 200. Röövimine                                                                           238\n",
       "§ 203. Asja rikkumine ja hävitamine                                                        147\n",
       "§ 215. Asja omavoliline kasutamine                                                          81\n",
       "§ 204. Kultuurimälestise, arhivaali, museaali ja muuseumikogu rikkumine ja hävitamine        1\n",
       "Name: ParagrahvTais, dtype: int64"
      ]
     },
     "execution_count": 11,
     "metadata": {},
     "output_type": "execute_result"
    }
   ],
   "source": [
    "data[\"ParagrahvTais\"].value_counts()"
   ]
  },
  {
   "cell_type": "code",
   "execution_count": 12,
   "id": "b287e9e3",
   "metadata": {},
   "outputs": [
    {
     "data": {
      "text/plain": [
       "Kesklinna linnaosa         1898.8\n",
       "Lasnamäe linnaosa          1500.6\n",
       "Põhja-Tallinna linnaosa     898.4\n",
       "Mustamäe linnaosa           469.8\n",
       "Kristiine linnaosa          434.2\n",
       "Haabersti linnaosa          312.4\n",
       "Nõmme linnaosa              172.2\n",
       "Pirita linnaosa             117.0\n",
       "Tallinn                       4.8\n",
       "Name: KohtNimetus, dtype: float64"
      ]
     },
     "execution_count": 12,
     "metadata": {},
     "output_type": "execute_result"
    }
   ],
   "source": [
    "data[data['ValdLinnNimetus'] == 'Tallinn']['KohtNimetus'].value_counts()/5"
   ]
  },
  {
   "cell_type": "code",
   "execution_count": 13,
   "id": "9e137d90",
   "metadata": {},
   "outputs": [
    {
     "data": {
      "text/plain": [
       "0-499         29372\n",
       "NaN            6168\n",
       "500-4999       4199\n",
       "5000-49999      224\n",
       "50000-x          17\n",
       "Name: Kahjusumma, dtype: int64"
      ]
     },
     "execution_count": 13,
     "metadata": {},
     "output_type": "execute_result"
    }
   ],
   "source": [
    "data[\"Kahjusumma\"].value_counts(dropna=False)"
   ]
  },
  {
   "cell_type": "code",
   "execution_count": 14,
   "id": "88d20b27",
   "metadata": {},
   "outputs": [
    {
     "data": {
      "text/plain": [
       "<AxesSubplot:>"
      ]
     },
     "execution_count": 14,
     "metadata": {},
     "output_type": "execute_result"
    },
    {
     "data": {
      "image/png": "[encoded data removed]",
      "text/plain": [
       "<Figure size 432x288 with 1 Axes>"
      ]
     },
     "metadata": {
      "needs_background": "light"
     },
     "output_type": "display_data"
    }
   ],
   "source": [
    "counts = data['Kahjusumma'].value_counts()\n",
    "counts = counts/sum(counts)\n",
    "counts.plot(kind='bar')"
   ]
  },
  {
   "cell_type": "code",
   "execution_count": 15,
   "id": "5482e80d",
   "metadata": {},
   "outputs": [
    {
     "data": {
      "text/plain": [
       "§ 199. Vargus                          8\n",
       "§ 203. Asja rikkumine ja hävitamine    6\n",
       "§ 200. Röövimine                       2\n",
       "§ 201. Omastamine                      1\n",
       "Name: ParagrahvTais, dtype: int64"
      ]
     },
     "execution_count": 15,
     "metadata": {},
     "output_type": "execute_result"
    }
   ],
   "source": [
    "data[data['Kahjusumma'] == '50000-x']['ParagrahvTais'].value_counts()"
   ]
  },
  {
   "cell_type": "markdown",
   "id": "241aa68a",
   "metadata": {},
   "source": [
    "## Searching for frequent patterns"
   ]
  },
  {
   "cell_type": "code",
   "execution_count": 16,
   "id": "33e15342",
   "metadata": {},
   "outputs": [],
   "source": [
    "import apyori\n",
    "\n",
    "def rules_to_df(rules):\n",
    "    results = list(rules)\n",
    "    apriori_df = pd.DataFrame(columns=('Items','Antecedent','Consequent','Support','Confidence','Lift'))\n",
    "\n",
    "    Support =[]\n",
    "    Confidence = []\n",
    "    Lift = []\n",
    "    Items = []\n",
    "    Antecedent = []\n",
    "    Consequent=[]\n",
    "\n",
    "    for RelationRecord in results:\n",
    "        for ordered_stat in RelationRecord.ordered_statistics:\n",
    "            Support.append(RelationRecord.support)\n",
    "            Items.append(RelationRecord.items)\n",
    "            Antecedent.append(ordered_stat.items_base)\n",
    "            Consequent.append(ordered_stat.items_add)\n",
    "            Confidence.append(ordered_stat.confidence)\n",
    "            Lift.append(ordered_stat.lift)\n",
    "\n",
    "    apriori_df['Items'] = list(map(set, Items))                                   \n",
    "    apriori_df['Antecedent'] = list(map(set, Antecedent))\n",
    "    apriori_df['Consequent'] = list(map(set, Consequent))\n",
    "    apriori_df['Support'] = Support\n",
    "    apriori_df['Confidence'] = Confidence\n",
    "    apriori_df['Lift']= Lift\n",
    "    return apriori_df"
   ]
  },
  {
   "cell_type": "code",
   "execution_count": 17,
   "id": "e08fcbae",
   "metadata": {},
   "outputs": [
    {
     "data": {
      "text/html": [
       "<div>\n",
       "<style scoped>\n",
       "    .dataframe tbody tr th:only-of-type {\n",
       "        vertical-align: middle;\n",
       "    }\n",
       "\n",
       "    .dataframe tbody tr th {\n",
       "        vertical-align: top;\n",
       "    }\n",
       "\n",
       "    .dataframe thead th {\n",
       "        text-align: right;\n",
       "    }\n",
       "</style>\n",
       "<table border=\"1\" class=\"dataframe\">\n",
       "  <thead>\n",
       "    <tr style=\"text-align: right;\">\n",
       "      <th></th>\n",
       "      <th>Items</th>\n",
       "      <th>Antecedent</th>\n",
       "      <th>Consequent</th>\n",
       "      <th>Support</th>\n",
       "      <th>Confidence</th>\n",
       "      <th>Lift</th>\n",
       "    </tr>\n",
       "  </thead>\n",
       "  <tbody>\n",
       "    <tr>\n",
       "      <th>58</th>\n",
       "      <td>{Kesklinna linnaosa, Harju maakond, Tallinn}</td>\n",
       "      <td>{Kesklinna linnaosa, Harju maakond}</td>\n",
       "      <td>{Tallinn}</td>\n",
       "      <td>0.237469</td>\n",
       "      <td>1.000000</td>\n",
       "      <td>1.376674</td>\n",
       "    </tr>\n",
       "    <tr>\n",
       "      <th>64</th>\n",
       "      <td>{Harju maakond, Lasnamäe linnaosa, Tallinn}</td>\n",
       "      <td>{Lasnamäe linnaosa, Tallinn}</td>\n",
       "      <td>{Harju maakond}</td>\n",
       "      <td>0.187669</td>\n",
       "      <td>1.000000</td>\n",
       "      <td>1.262154</td>\n",
       "    </tr>\n",
       "    <tr>\n",
       "      <th>135</th>\n",
       "      <td>{Kesklinna linnaosa, § 199. Vargus, Harju maak...</td>\n",
       "      <td>{Kesklinna linnaosa, § 199. Vargus, Tallinn}</td>\n",
       "      <td>{Harju maakond}</td>\n",
       "      <td>0.101976</td>\n",
       "      <td>1.000000</td>\n",
       "      <td>1.262154</td>\n",
       "    </tr>\n",
       "    <tr>\n",
       "      <th>76</th>\n",
       "      <td>{§ 199. Vargus, Harju maakond, Tallinn}</td>\n",
       "      <td>{§ 199. Vargus, Tallinn}</td>\n",
       "      <td>{Harju maakond}</td>\n",
       "      <td>0.282291</td>\n",
       "      <td>1.000000</td>\n",
       "      <td>1.262154</td>\n",
       "    </tr>\n",
       "    <tr>\n",
       "      <th>74</th>\n",
       "      <td>{Harju maakond, Reede     , Tallinn}</td>\n",
       "      <td>{Reede     , Tallinn}</td>\n",
       "      <td>{Harju maakond}</td>\n",
       "      <td>0.110255</td>\n",
       "      <td>1.000000</td>\n",
       "      <td>1.262154</td>\n",
       "    </tr>\n",
       "    <tr>\n",
       "      <th>...</th>\n",
       "      <td>...</td>\n",
       "      <td>...</td>\n",
       "      <td>...</td>\n",
       "      <td>...</td>\n",
       "      <td>...</td>\n",
       "      <td>...</td>\n",
       "    </tr>\n",
       "    <tr>\n",
       "      <th>87</th>\n",
       "      <td>{Harju maakond, 0-499, Tallinn, AVALIK_KOHT,KA...</td>\n",
       "      <td>{Harju maakond, AVALIK_KOHT,KAUPLUS}</td>\n",
       "      <td>{0-499, Tallinn}</td>\n",
       "      <td>0.304677</td>\n",
       "      <td>0.813368</td>\n",
       "      <td>1.458881</td>\n",
       "    </tr>\n",
       "    <tr>\n",
       "      <th>12</th>\n",
       "      <td>{Harju maakond, Neljapäev}</td>\n",
       "      <td>{Neljapäev}</td>\n",
       "      <td>{Harju maakond}</td>\n",
       "      <td>0.107979</td>\n",
       "      <td>0.806012</td>\n",
       "      <td>1.017311</td>\n",
       "    </tr>\n",
       "    <tr>\n",
       "      <th>8</th>\n",
       "      <td>{Harju maakond, Esmaspäev}</td>\n",
       "      <td>{Esmaspäev}</td>\n",
       "      <td>{Harju maakond}</td>\n",
       "      <td>0.103402</td>\n",
       "      <td>0.804593</td>\n",
       "      <td>1.015521</td>\n",
       "    </tr>\n",
       "    <tr>\n",
       "      <th>155</th>\n",
       "      <td>{§ 218. Varavastane süütegu väheväärtusliku as...</td>\n",
       "      <td>{Harju maakond, § 218. Varavastane süütegu väh...</td>\n",
       "      <td>{0-499, Tallinn}</td>\n",
       "      <td>0.181691</td>\n",
       "      <td>0.804074</td>\n",
       "      <td>1.442210</td>\n",
       "    </tr>\n",
       "    <tr>\n",
       "      <th>16</th>\n",
       "      <td>{Harju maakond, Teisipäev}</td>\n",
       "      <td>{Teisipäev}</td>\n",
       "      <td>{Harju maakond}</td>\n",
       "      <td>0.103452</td>\n",
       "      <td>0.804044</td>\n",
       "      <td>1.014827</td>\n",
       "    </tr>\n",
       "  </tbody>\n",
       "</table>\n",
       "<p>167 rows × 6 columns</p>\n",
       "</div>"
      ],
      "text/plain": [
       "                                                 Items  \\\n",
       "58        {Kesklinna linnaosa, Harju maakond, Tallinn}   \n",
       "64         {Harju maakond, Lasnamäe linnaosa, Tallinn}   \n",
       "135  {Kesklinna linnaosa, § 199. Vargus, Harju maak...   \n",
       "76             {§ 199. Vargus, Harju maakond, Tallinn}   \n",
       "74                {Harju maakond, Reede     , Tallinn}   \n",
       "..                                                 ...   \n",
       "87   {Harju maakond, 0-499, Tallinn, AVALIK_KOHT,KA...   \n",
       "12                          {Harju maakond, Neljapäev}   \n",
       "8                           {Harju maakond, Esmaspäev}   \n",
       "155  {§ 218. Varavastane süütegu väheväärtusliku as...   \n",
       "16                          {Harju maakond, Teisipäev}   \n",
       "\n",
       "                                            Antecedent        Consequent  \\\n",
       "58                 {Kesklinna linnaosa, Harju maakond}         {Tallinn}   \n",
       "64                        {Lasnamäe linnaosa, Tallinn}   {Harju maakond}   \n",
       "135       {Kesklinna linnaosa, § 199. Vargus, Tallinn}   {Harju maakond}   \n",
       "76                            {§ 199. Vargus, Tallinn}   {Harju maakond}   \n",
       "74                               {Reede     , Tallinn}   {Harju maakond}   \n",
       "..                                                 ...               ...   \n",
       "87                {Harju maakond, AVALIK_KOHT,KAUPLUS}  {0-499, Tallinn}   \n",
       "12                                         {Neljapäev}   {Harju maakond}   \n",
       "8                                          {Esmaspäev}   {Harju maakond}   \n",
       "155  {Harju maakond, § 218. Varavastane süütegu väh...  {0-499, Tallinn}   \n",
       "16                                         {Teisipäev}   {Harju maakond}   \n",
       "\n",
       "      Support  Confidence      Lift  \n",
       "58   0.237469    1.000000  1.376674  \n",
       "64   0.187669    1.000000  1.262154  \n",
       "135  0.101976    1.000000  1.262154  \n",
       "76   0.282291    1.000000  1.262154  \n",
       "74   0.110255    1.000000  1.262154  \n",
       "..        ...         ...       ...  \n",
       "87   0.304677    0.813368  1.458881  \n",
       "12   0.107979    0.806012  1.017311  \n",
       "8    0.103402    0.804593  1.015521  \n",
       "155  0.181691    0.804074  1.442210  \n",
       "16   0.103452    0.804044  1.014827  \n",
       "\n",
       "[167 rows x 6 columns]"
      ]
     },
     "execution_count": 17,
     "metadata": {},
     "output_type": "execute_result"
    }
   ],
   "source": [
    "from mlxtend.frequent_patterns import apriori\n",
    "data_for_apriori = data.copy(deep=True)\n",
    "data_for_apriori = data_for_apriori.astype(str)\n",
    "\n",
    "offencesData = data_for_apriori.values\n",
    "rules = apyori.apriori(offencesData, min_support = 0.1, min_confidence = 0.8)\n",
    "rules_df = rules_to_df(rules)\n",
    "rules_df.sort_values(by=[\"Confidence\"], ascending=False)"
   ]
  },
  {
   "cell_type": "markdown",
   "id": "310553be",
   "metadata": {},
   "source": [
    "## Number of offences every year"
   ]
  },
  {
   "cell_type": "code",
   "execution_count": 18,
   "id": "e2ecb13b",
   "metadata": {},
   "outputs": [
    {
     "data": {
      "text/plain": [
       "10407"
      ]
     },
     "execution_count": 18,
     "metadata": {},
     "output_type": "execute_result"
    }
   ],
   "source": [
    "data2016 = data[(data['ToimKpv'] >= '2016-01-01') & (data['ToimKpv'] <= '2016-12-31')]\n",
    "len(data2016)"
   ]
  },
  {
   "cell_type": "code",
   "execution_count": 19,
   "id": "92e14b97",
   "metadata": {},
   "outputs": [
    {
     "data": {
      "text/plain": [
       "8703"
      ]
     },
     "execution_count": 19,
     "metadata": {},
     "output_type": "execute_result"
    }
   ],
   "source": [
    "data2017 = data[(data['ToimKpv'] >= '2017-01-01') & (data['ToimKpv'] <= '2017-12-31')]\n",
    "len(data2017)"
   ]
  },
  {
   "cell_type": "code",
   "execution_count": 20,
   "id": "82b70dbb",
   "metadata": {},
   "outputs": [
    {
     "data": {
      "text/plain": [
       "7741"
      ]
     },
     "execution_count": 20,
     "metadata": {},
     "output_type": "execute_result"
    }
   ],
   "source": [
    "data2018 = data[(data['ToimKpv'] >= '2018-01-01') & (data['ToimKpv'] <= '2018-12-31')]\n",
    "len(data2018)"
   ]
  },
  {
   "cell_type": "code",
   "execution_count": 21,
   "id": "756e2086",
   "metadata": {},
   "outputs": [
    {
     "data": {
      "text/plain": [
       "6990"
      ]
     },
     "execution_count": 21,
     "metadata": {},
     "output_type": "execute_result"
    }
   ],
   "source": [
    "data2019 = data[(data['ToimKpv'] >= '2019-01-01') & (data['ToimKpv'] <= '2019-12-31')]\n",
    "len(data2019)"
   ]
  },
  {
   "cell_type": "code",
   "execution_count": 22,
   "id": "0d5a8bda",
   "metadata": {},
   "outputs": [
    {
     "data": {
      "text/plain": [
       "6139"
      ]
     },
     "execution_count": 22,
     "metadata": {},
     "output_type": "execute_result"
    }
   ],
   "source": [
    "data2020 = data[(data['ToimKpv'] >= '2020-01-01') & (data['ToimKpv'] <= '2020-12-31')]\n",
    "len(data2020)"
   ]
  },
  {
   "cell_type": "markdown",
   "id": "0ada8a54",
   "metadata": {},
   "source": [
    "## Difference between 2016 and 2020"
   ]
  },
  {
   "cell_type": "code",
   "execution_count": 23,
   "id": "188bcde9",
   "metadata": {},
   "outputs": [
    {
     "data": {
      "text/plain": [
       "41.0108580762948"
      ]
     },
     "execution_count": 23,
     "metadata": {},
     "output_type": "execute_result"
    }
   ],
   "source": [
    "((len(data2016)-len(data2020))/len(data2016))*100"
   ]
  },
  {
   "cell_type": "markdown",
   "id": "3f48e5ba",
   "metadata": {},
   "source": [
    "## Counties"
   ]
  },
  {
   "cell_type": "code",
   "execution_count": 24,
   "id": "f7da475f",
   "metadata": {},
   "outputs": [
    {
     "data": {
      "text/html": [
       "<div>\n",
       "<style scoped>\n",
       "    .dataframe tbody tr th:only-of-type {\n",
       "        vertical-align: middle;\n",
       "    }\n",
       "\n",
       "    .dataframe tbody tr th {\n",
       "        vertical-align: top;\n",
       "    }\n",
       "\n",
       "    .dataframe thead th {\n",
       "        text-align: right;\n",
       "    }\n",
       "</style>\n",
       "<table border=\"1\" class=\"dataframe\">\n",
       "  <thead>\n",
       "    <tr style=\"text-align: right;\">\n",
       "      <th></th>\n",
       "      <th>County</th>\n",
       "      <th>Offences</th>\n",
       "    </tr>\n",
       "  </thead>\n",
       "  <tbody>\n",
       "    <tr>\n",
       "      <th>0</th>\n",
       "      <td>Harju</td>\n",
       "      <td>10.470903</td>\n",
       "    </tr>\n",
       "    <tr>\n",
       "      <th>1</th>\n",
       "      <td>Tartu</td>\n",
       "      <td>3.066848</td>\n",
       "    </tr>\n",
       "    <tr>\n",
       "      <th>2</th>\n",
       "      <td>Ida-Viru</td>\n",
       "      <td>3.225110</td>\n",
       "    </tr>\n",
       "    <tr>\n",
       "      <th>3</th>\n",
       "      <td>Pärnu</td>\n",
       "      <td>1.914486</td>\n",
       "    </tr>\n",
       "    <tr>\n",
       "      <th>4</th>\n",
       "      <td>Lääne-Viru</td>\n",
       "      <td>1.542591</td>\n",
       "    </tr>\n",
       "    <tr>\n",
       "      <th>5</th>\n",
       "      <td>Jõgeva</td>\n",
       "      <td>2.665073</td>\n",
       "    </tr>\n",
       "    <tr>\n",
       "      <th>6</th>\n",
       "      <td>Viljandi</td>\n",
       "      <td>1.269470</td>\n",
       "    </tr>\n",
       "    <tr>\n",
       "      <th>7</th>\n",
       "      <td>Valga</td>\n",
       "      <td>2.070628</td>\n",
       "    </tr>\n",
       "    <tr>\n",
       "      <th>8</th>\n",
       "      <td>Rapla</td>\n",
       "      <td>1.694610</td>\n",
       "    </tr>\n",
       "    <tr>\n",
       "      <th>9</th>\n",
       "      <td>Saare</td>\n",
       "      <td>1.547623</td>\n",
       "    </tr>\n",
       "    <tr>\n",
       "      <th>10</th>\n",
       "      <td>Põlva</td>\n",
       "      <td>1.979957</td>\n",
       "    </tr>\n",
       "    <tr>\n",
       "      <th>11</th>\n",
       "      <td>Võru</td>\n",
       "      <td>1.197233</td>\n",
       "    </tr>\n",
       "    <tr>\n",
       "      <th>12</th>\n",
       "      <td>Järva</td>\n",
       "      <td>1.265991</td>\n",
       "    </tr>\n",
       "    <tr>\n",
       "      <th>13</th>\n",
       "      <td>Lääne</td>\n",
       "      <td>1.193504</td>\n",
       "    </tr>\n",
       "    <tr>\n",
       "      <th>14</th>\n",
       "      <td>Hiiu</td>\n",
       "      <td>1.331186</td>\n",
       "    </tr>\n",
       "  </tbody>\n",
       "</table>\n",
       "</div>"
      ],
      "text/plain": [
       "        County   Offences\n",
       "0        Harju  10.470903\n",
       "1        Tartu   3.066848\n",
       "2     Ida-Viru   3.225110\n",
       "3        Pärnu   1.914486\n",
       "4   Lääne-Viru   1.542591\n",
       "5       Jõgeva   2.665073\n",
       "6     Viljandi   1.269470\n",
       "7        Valga   2.070628\n",
       "8        Rapla   1.694610\n",
       "9        Saare   1.547623\n",
       "10       Põlva   1.979957\n",
       "11        Võru   1.197233\n",
       "12       Järva   1.265991\n",
       "13       Lääne   1.193504\n",
       "14        Hiiu   1.331186"
      ]
     },
     "execution_count": 24,
     "metadata": {},
     "output_type": "execute_result"
    }
   ],
   "source": [
    "counties = {'Harju maakond': 605029, 'Tartu maakond':153317, 'Ida-Viru maakond': 134259, 'Pärnu maakond': 86185, 'Lääne-Viru maakond': 58862, 'Jõgeva maakond': 28442, 'Viljandi maakond':46161, 'Valga maakond':28204, 'Rapla maakond': 33282, 'Saare maakond': 33083, 'Põlva maakond': 24647, 'Võru maakond':35415, 'Järva maakond': 30174, 'Lääne maakond': 20444, 'Hiiu maakond': 9315}\n",
    "countiesarray = []\n",
    "i = 0\n",
    "for county, population in counties.items():\n",
    "    perperson = len(data[(data['MaakondNimetus'] == county)])/5/population*1000\n",
    "    countiesarray.append([])\n",
    "    countiesarray[i] = [county.split()[0], perperson]\n",
    "    i += 1\n",
    "    \n",
    "countiesdf = pd.DataFrame(countiesarray, columns = ['County', 'Offences'], index=None)\n",
    "#countiesdf.to_csv('counties.csv', index=False)\n",
    "countiesdf"
   ]
  },
  {
   "cell_type": "code",
   "execution_count": 25,
   "id": "9f84555c",
   "metadata": {},
   "outputs": [
    {
     "data": {
      "text/plain": [
       "Harju maakond         31676\n",
       "Tartu maakond          2351\n",
       "Ida-Viru maakond       2165\n",
       "Pärnu maakond           825\n",
       "Lääne-Viru maakond      454\n",
       "Jõgeva maakond          379\n",
       "Viljandi maakond        293\n",
       "Valga maakond           292\n",
       "Rapla maakond           282\n",
       "Saare maakond           256\n",
       "Põlva maakond           244\n",
       "Võru maakond            212\n",
       "Järva maakond           191\n",
       "Lääne maakond           122\n",
       "Hiiu maakond             62\n",
       "Name: MaakondNimetus, dtype: int64"
      ]
     },
     "execution_count": 25,
     "metadata": {},
     "output_type": "execute_result"
    }
   ],
   "source": [
    "data[\"MaakondNimetus\"].value_counts()"
   ]
  },
  {
   "cell_type": "markdown",
   "id": "654c5b09",
   "metadata": {},
   "source": [
    "## Differences between daylight and nighttime"
   ]
  },
  {
   "cell_type": "code",
   "execution_count": 26,
   "id": "90067883",
   "metadata": {},
   "outputs": [],
   "source": [
    "sunsetdf = pd.read_csv(\"loojang.csv\", sep=\";\", index_col = None)"
   ]
  },
  {
   "cell_type": "code",
   "execution_count": 27,
   "id": "8d6f9c82",
   "metadata": {},
   "outputs": [
    {
     "data": {
      "text/html": [
       "<div>\n",
       "<style scoped>\n",
       "    .dataframe tbody tr th:only-of-type {\n",
       "        vertical-align: middle;\n",
       "    }\n",
       "\n",
       "    .dataframe tbody tr th {\n",
       "        vertical-align: top;\n",
       "    }\n",
       "\n",
       "    .dataframe thead th {\n",
       "        text-align: right;\n",
       "    }\n",
       "</style>\n",
       "<table border=\"1\" class=\"dataframe\">\n",
       "  <thead>\n",
       "    <tr style=\"text-align: right;\">\n",
       "      <th></th>\n",
       "      <th>Sunrise</th>\n",
       "      <th>Sunset</th>\n",
       "    </tr>\n",
       "  </thead>\n",
       "  <tbody>\n",
       "    <tr>\n",
       "      <th>0</th>\n",
       "      <td>09:01:00</td>\n",
       "      <td>15:33:00</td>\n",
       "    </tr>\n",
       "    <tr>\n",
       "      <th>1</th>\n",
       "      <td>09:00:00</td>\n",
       "      <td>15:34:00</td>\n",
       "    </tr>\n",
       "    <tr>\n",
       "      <th>2</th>\n",
       "      <td>09:00:00</td>\n",
       "      <td>15:36:00</td>\n",
       "    </tr>\n",
       "    <tr>\n",
       "      <th>3</th>\n",
       "      <td>08:59:00</td>\n",
       "      <td>15:37:00</td>\n",
       "    </tr>\n",
       "    <tr>\n",
       "      <th>4</th>\n",
       "      <td>08:59:00</td>\n",
       "      <td>15:39:00</td>\n",
       "    </tr>\n",
       "    <tr>\n",
       "      <th>...</th>\n",
       "      <td>...</td>\n",
       "      <td>...</td>\n",
       "    </tr>\n",
       "    <tr>\n",
       "      <th>360</th>\n",
       "      <td>09:02:00</td>\n",
       "      <td>15:27:00</td>\n",
       "    </tr>\n",
       "    <tr>\n",
       "      <th>361</th>\n",
       "      <td>09:02:00</td>\n",
       "      <td>15:28:00</td>\n",
       "    </tr>\n",
       "    <tr>\n",
       "      <th>362</th>\n",
       "      <td>09:01:00</td>\n",
       "      <td>15:29:00</td>\n",
       "    </tr>\n",
       "    <tr>\n",
       "      <th>363</th>\n",
       "      <td>09:01:00</td>\n",
       "      <td>15:30:00</td>\n",
       "    </tr>\n",
       "    <tr>\n",
       "      <th>364</th>\n",
       "      <td>09:01:00</td>\n",
       "      <td>15:31:00</td>\n",
       "    </tr>\n",
       "  </tbody>\n",
       "</table>\n",
       "<p>365 rows × 2 columns</p>\n",
       "</div>"
      ],
      "text/plain": [
       "      Sunrise    Sunset\n",
       "0    09:01:00  15:33:00\n",
       "1    09:00:00  15:34:00\n",
       "2    09:00:00  15:36:00\n",
       "3    08:59:00  15:37:00\n",
       "4    08:59:00  15:39:00\n",
       "..        ...       ...\n",
       "360  09:02:00  15:27:00\n",
       "361  09:02:00  15:28:00\n",
       "362  09:01:00  15:29:00\n",
       "363  09:01:00  15:30:00\n",
       "364  09:01:00  15:31:00\n",
       "\n",
       "[365 rows x 2 columns]"
      ]
     },
     "execution_count": 27,
     "metadata": {},
     "output_type": "execute_result"
    }
   ],
   "source": [
    "sunsetdf"
   ]
  },
  {
   "cell_type": "code",
   "execution_count": 29,
   "id": "ed5d69c6",
   "metadata": {},
   "outputs": [
    {
     "data": {
      "text/html": [
       "<div>\n",
       "<style scoped>\n",
       "    .dataframe tbody tr th:only-of-type {\n",
       "        vertical-align: middle;\n",
       "    }\n",
       "\n",
       "    .dataframe tbody tr th {\n",
       "        vertical-align: top;\n",
       "    }\n",
       "\n",
       "    .dataframe thead th {\n",
       "        text-align: right;\n",
       "    }\n",
       "</style>\n",
       "<table border=\"1\" class=\"dataframe\">\n",
       "  <thead>\n",
       "    <tr style=\"text-align: right;\">\n",
       "      <th></th>\n",
       "      <th>Sunrise</th>\n",
       "      <th>Sunset</th>\n",
       "      <th>date</th>\n",
       "    </tr>\n",
       "  </thead>\n",
       "  <tbody>\n",
       "    <tr>\n",
       "      <th>0</th>\n",
       "      <td>09:01:00</td>\n",
       "      <td>15:33:00</td>\n",
       "      <td>01-01</td>\n",
       "    </tr>\n",
       "    <tr>\n",
       "      <th>1</th>\n",
       "      <td>09:00:00</td>\n",
       "      <td>15:34:00</td>\n",
       "      <td>02-01</td>\n",
       "    </tr>\n",
       "    <tr>\n",
       "      <th>2</th>\n",
       "      <td>09:00:00</td>\n",
       "      <td>15:36:00</td>\n",
       "      <td>03-01</td>\n",
       "    </tr>\n",
       "    <tr>\n",
       "      <th>3</th>\n",
       "      <td>08:59:00</td>\n",
       "      <td>15:37:00</td>\n",
       "      <td>04-01</td>\n",
       "    </tr>\n",
       "    <tr>\n",
       "      <th>4</th>\n",
       "      <td>08:59:00</td>\n",
       "      <td>15:39:00</td>\n",
       "      <td>05-01</td>\n",
       "    </tr>\n",
       "  </tbody>\n",
       "</table>\n",
       "</div>"
      ],
      "text/plain": [
       "    Sunrise    Sunset   date\n",
       "0  09:01:00  15:33:00  01-01\n",
       "1  09:00:00  15:34:00  02-01\n",
       "2  09:00:00  15:36:00  03-01\n",
       "3  08:59:00  15:37:00  04-01\n",
       "4  08:59:00  15:39:00  05-01"
      ]
     },
     "execution_count": 29,
     "metadata": {},
     "output_type": "execute_result"
    }
   ],
   "source": [
    "from datetime import datetime\n",
    "first = datetime.strptime('Jan 1', '%b %d')\n",
    "\n",
    "days = []\n",
    "for i in range(365):\n",
    "    days.append(first)\n",
    "    first = first + pd.Timedelta(days=1)\n",
    "    \n",
    "sunsetdf['date'] = days\n",
    "sunsetdf['date'] = sunsetdf['date'].dt.strftime('%d-%m')\n",
    "\n",
    "sunsetdf.head()"
   ]
  },
  {
   "cell_type": "code",
   "execution_count": 34,
   "id": "a6d54382",
   "metadata": {},
   "outputs": [],
   "source": [
    "from datetime import datetime\n",
    "isItDay = []\n",
    "data['ToimKell'] =  pd.to_datetime(data['ToimKell'], format='%H:%M')\n",
    "data['ToimKpv'] = pd.DatetimeIndex(data['ToimKpv'])\n",
    "for index, row in data.iterrows():\n",
    "    offenceDate = row['ToimKpv'].strftime('%d-%m')\n",
    "    if row['ToimKell'] is pd.NaT:\n",
    "        continue\n",
    "    offenceTime = (row['ToimKell']).strftime('%H:%M:%S')\n",
    "    if (offenceDate == '29-02'):\n",
    "        #There is no data about sunrise and sunset at 29th february\n",
    "        offenceDate = '28-02'\n",
    "    sunrise = sunsetdf[sunsetdf['date'] == offenceDate]['Sunrise']\n",
    "    sunset = sunsetdf[sunsetdf['date'] == offenceDate]['Sunset']\n",
    "    a = offenceTime>sunrise\n",
    "    b = offenceTime<sunset\n",
    "    if a.bool() & b.bool():\n",
    "        isItDay.append(True)\n",
    "    else:\n",
    "        isItDay.append(False)"
   ]
  },
  {
   "cell_type": "code",
   "execution_count": 35,
   "id": "539c8898",
   "metadata": {},
   "outputs": [
    {
     "name": "stdout",
     "output_type": "stream",
     "text": [
      "day: 23768--- 0.619119562386038\n",
      "night: 14622--- 0.38088043761396195\n",
      "all: 38390\n"
     ]
    }
   ],
   "source": [
    "day = 0\n",
    "for i in isItDay:\n",
    "    if i:\n",
    "        day+=1\n",
    "night = len(isItDay)-day\n",
    "total = night+day\n",
    "print(\"day: \"+str(day)+\"--- \"+ str(day/total))\n",
    "print(\"night: \"+str(night)+\"--- \"+str(night/total))\n",
    "print(\"all: \"+str(total))"
   ]
  },
  {
   "cell_type": "markdown",
   "id": "bac55f10",
   "metadata": {},
   "source": [
    "## Difference between weekend and workweek"
   ]
  },
  {
   "cell_type": "code",
   "execution_count": 32,
   "id": "378bbabf",
   "metadata": {},
   "outputs": [
    {
     "data": {
      "text/plain": [
       "52.328664332166085"
      ]
     },
     "execution_count": 32,
     "metadata": {},
     "output_type": "execute_result"
    }
   ],
   "source": [
    "dataweekday = len(data[(data['ToimNadalapaev'] == 'Esmaspäev') | (data['ToimNadalapaev'] == 'Teisipäev') | (data['ToimNadalapaev'] == 'Kolmapäev') | (data['ToimNadalapaev'] == 'Neljapäev') | (data['ToimNadalapaev'] == 'Reede')])\n",
    "dataweekend = len(data[(data['ToimNadalapaev'] == 'Laupäev') | (data['ToimNadalapaev'] == 'Pühapäev')])\n",
    "dataweekday/len(data)*100"
   ]
  },
  {
   "cell_type": "markdown",
   "id": "54430d6c",
   "metadata": {},
   "source": [
    "## Difference between seasons"
   ]
  },
  {
   "cell_type": "code",
   "execution_count": 33,
   "id": "898f1566",
   "metadata": {},
   "outputs": [
    {
     "name": "stdout",
     "output_type": "stream",
     "text": [
      "14.322555048601467\n"
     ]
    }
   ],
   "source": [
    "winter = len(data[(data['ToimKpv'].dt.month == 12) | (data['ToimKpv'].dt.month == 1) | (data['ToimKpv'].dt.month == 2)])\n",
    "spring = len(data[(data['ToimKpv'].dt.month >= 3) & (data['ToimKpv'].dt.month <= 5)])\n",
    "summer = len(data[(data['ToimKpv'].dt.month >= 6) & (data['ToimKpv'].dt.month <= 8)])\n",
    "autumn = len(data[(data['ToimKpv'].dt.month >= 9) & (data['ToimKpv'].dt.month <= 11)])\n",
    "print((((spring+summer)-(winter+autumn))/(spring+autumn))*100)"
   ]
  }
 ],
 "metadata": {
  "kernelspec": {
   "display_name": "Python 3",
   "language": "python",
   "name": "python3"
  },
  "language_info": {
   "codemirror_mode": {
    "name": "ipython",
    "version": 3
   },
   "file_extension": ".py",
   "mimetype": "text/x-python",
   "name": "python",
   "nbconvert_exporter": "python",
   "pygments_lexer": "ipython3",
   "version": "3.8.8"
  }
 },
 "nbformat": 4,
 "nbformat_minor": 5
}
